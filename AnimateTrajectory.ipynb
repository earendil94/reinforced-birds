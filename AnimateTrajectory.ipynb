{
 "cells": [
  {
   "cell_type": "code",
   "execution_count": 2,
   "id": "2dbb8f0b-d5b3-439f-b5ac-a9516f24937f",
   "metadata": {},
   "outputs": [],
   "source": [
    "%matplotlib inline"
   ]
  },
  {
   "cell_type": "code",
   "execution_count": 3,
   "id": "399a2a30-61b2-4697-bc0f-758114867cfe",
   "metadata": {},
   "outputs": [],
   "source": [
    "import numpy as np\n",
    "import matplotlib.pyplot as plt\n",
    "import pandas as pd\n",
    "from matplotlib import animation, rc\n",
    "from IPython.display import HTML"
   ]
  },
  {
   "cell_type": "code",
   "execution_count": 4,
   "id": "f2b69ca3-3149-463e-9e51-e5c8e1dcd7e8",
   "metadata": {},
   "outputs": [],
   "source": [
    "# initialization function: plot the background of each frame\n",
    "def animate_trajectory(episode, filename=\"data/pursuer_trajectory.csv\"):\n",
    "    info = pd.read_csv(\"data/env_info.csv\")\n",
    "    birds_num = info['num_of_birds'][0]\n",
    "    fig, ax = plt.subplots()\n",
    "\n",
    "    line = [ax.plot([], [],  lw=2, color='red', alpha=0.7, animated=True)[0] for i in range(birds_num)]\n",
    "    for i in range(1,birds_num-1):\n",
    "        line[i].set_color('blue')\n",
    "    line[-1].set_color('lime')\n",
    "    \n",
    "    df = pd.read_csv(filename)\n",
    "    df = df[df[\"Episode\"] == episode]\n",
    "    m = df.abs().max()\n",
    "    x_max = max(m[1::2]) + 1\n",
    "    y_max = max(m[2::2]) + 1\n",
    "    abs_max = max(x_max,y_max)\n",
    "    ax.set_xlim(-abs_max,abs_max)\n",
    "    ax.set_ylim(-abs_max,abs_max)\n",
    "    \n",
    "    x_a = [[] for i in range(birds_num)]\n",
    "    y_a = [[] for i in range(birds_num)]\n",
    "    \n",
    "    x = np.empty([len(df),birds_num])\n",
    "    y = np.empty([len(df),birds_num])\n",
    "    \n",
    "    for k in range(birds_num):\n",
    "        x[:,k] = df.iloc[:,1+3*k].to_numpy()\n",
    "        y[:,k] = df.iloc[:,2+3*k].to_numpy()\n",
    "        \n",
    "    #x_0 = df['x0'].to_numpy().tolist()\n",
    "    #y_0 = df['y0'].to_numpy().tolist()\n",
    "    \n",
    "    #x_1 = df['x1'].to_numpy().tolist()\n",
    "    #y_1 = df['y1'].to_numpy().tolist()\n",
    "\n",
    "\n",
    "    # First set up the figure, the axis, and the plot element we want to animate\n",
    "\n",
    "    def init():\n",
    "        for i in range(birds_num):\n",
    "            line[i].set_data([], [])\n",
    "            return line\n",
    "            #return [line[i] for i in range(birds_num)],\n",
    "\n",
    "    # animation function. This is called sequentially\n",
    "    def animate(i):\n",
    "        '''\n",
    "        x0.append((x_0[i]))\n",
    "        y0.append((y_0[i]))\n",
    "        x1.append((x_1[i]))\n",
    "        y1.append((y_1[i]))\n",
    "        line.set_data(x0, y0)\n",
    "        line2.set_data(x1,y1)\n",
    "        return (line, line2, )\n",
    "        '''\n",
    "        for b in range(birds_num):\n",
    "            x_a[b].append(x[i,b])\n",
    "            y_a[b].append(y[i,b])\n",
    "            if i>4:\n",
    "                x_a[b].pop(0)\n",
    "                y_a[b].pop(0)\n",
    "            line[b].set_data(x_a[b],y_a[b])\n",
    "\n",
    "            \n",
    "        return line\n",
    "            \n",
    "    anim = animation.FuncAnimation(fig, animate, init_func=init,\n",
    "                                    frames=len(df), interval=40, blit=True)\n",
    "\n",
    "    return anim"
   ]
  },
  {
   "cell_type": "code",
   "execution_count": 20,
   "id": "8d75b8fd-ffc9-4737-8907-6614edbb04e9",
   "metadata": {},
   "outputs": [
    {
     "data": {
      "image/png": "[encoded data removed]",
      "text/plain": [
       "<Figure size 432x288 with 1 Axes>"
      ]
     },
     "metadata": {
      "needs_background": "light"
     },
     "output_type": "display_data"
    }
   ],
   "source": [
    "anim_p = animate_trajectory(19000)\n",
    "HTML(anim_p.to_html5_video())\n",
    "with open(\"videos/Third_run_10_birds/traj_19000.html\", \"w\") as f:\n",
    "    print(anim_p.to_html5_video(), file=f)"
   ]
  },
  {
   "cell_type": "code",
   "execution_count": 22,
   "id": "f9fbd09d-55bc-4267-a662-655167007408",
   "metadata": {},
   "outputs": [
    {
     "data": {
      "image/png": "[encoded data removed]",
      "text/plain": [
       "<Figure size 432x288 with 1 Axes>"
      ]
     },
     "metadata": {
      "needs_background": "light"
     },
     "output_type": "display_data"
    }
   ],
   "source": [
    "anim_p = animate_trajectory(190000)\n",
    "HTML(anim_p.to_html5_video())\n",
    "with open(\"videos/Third_run_10_birds/traj_190000.html\", \"w\") as f:\n",
    "    print(anim_p.to_html5_video(), file=f)"
   ]
  },
  {
   "cell_type": "code",
   "execution_count": null,
   "id": "d4667254-30fc-4099-abcb-7522d3abda29",
   "metadata": {},
   "outputs": [],
   "source": []
  }
 ],
 "metadata": {
  "kernelspec": {
   "display_name": "Python 3 (ipykernel)",
   "language": "python",
   "name": "python3"
  },
  "language_info": {
   "codemirror_mode": {
    "name": "ipython",
    "version": 3
   },
   "file_extension": ".py",
   "mimetype": "text/x-python",
   "name": "python",
   "nbconvert_exporter": "python",
   "pygments_lexer": "ipython3",
   "version": "3.8.10"
  }
 },
 "nbformat": 4,
 "nbformat_minor": 5
}
