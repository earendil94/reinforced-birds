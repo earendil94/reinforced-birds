{
 "cells": [
  {
   "cell_type": "code",
   "execution_count": 3,
   "id": "2dbb8f0b-d5b3-439f-b5ac-a9516f24937f",
   "metadata": {},
   "outputs": [],
   "source": [
    "%matplotlib inline"
   ]
  },
  {
   "cell_type": "code",
   "execution_count": 4,
   "id": "399a2a30-61b2-4697-bc0f-758114867cfe",
   "metadata": {},
   "outputs": [],
   "source": [
    "import numpy as np\n",
    "import matplotlib.pyplot as plt\n",
    "import pandas as pd\n",
    "from matplotlib import animation, rc\n",
    "from IPython.display import HTML\n",
    "import os.path as osp\n",
    "import shutil"
   ]
  },
  {
   "cell_type": "code",
   "execution_count": 7,
   "id": "f2b69ca3-3149-463e-9e51-e5c8e1dcd7e8",
   "metadata": {},
   "outputs": [],
   "source": [
    "# initialization function: plot the background of each frame\n",
    "def animate_trajectory(episode, size=(8,5), data_folder = 'data', filename=\"trajectory.csv\"):\n",
    "    info = pd.read_csv(osp.join(data_folder, \"env_info.csv\"))\n",
    "    birds_num = info['num_of_birds'][0]\n",
    "    fig, ax = plt.subplots(figsize=size)\n",
    "    \n",
    "    df = pd.read_csv(osp.join(data_folder,filename))\n",
    "    df = df[df[\"Episode\"] == episode]\n",
    "    m = df.abs().max()\n",
    "    x_max = max(m[1::2]) + 1\n",
    "    y_max = max(m[2::2]) + 1\n",
    "    abs_max = max(x_max,y_max)\n",
    "    ax.set_xlim(-abs_max,abs_max)\n",
    "    ax.set_ylim(-abs_max,abs_max)\n",
    "    \n",
    "    df_tmp = pd.DataFrame()\n",
    "    for i in range(birds_num):\n",
    "        df_tmp[\"x\"+str(i)] = df[\"x\"+str(i)]\n",
    "        df_tmp[\"y\"+str(i)] = df[\"y\"+str(i)]\n",
    "    #x_a = [[] for i in range(birds_num)]\n",
    "    #y_a = [[] for i in range(birds_num)]\n",
    "    \n",
    "    #x_col_names = ['x'+str(i) for i in range(birds_num)]\n",
    "    #y_col_names = ['y'+str(i) for i in range(birds_num)]\n",
    "    #df_tmp = df_tmp.reindex(columns=[*x_col_names,*y_col_names])\n",
    "    #x = np.empty([len(df),birds_num])\n",
    "    #y = np.empty([len(df),birds_num])\n",
    "    \n",
    "    #for k in range(birds_num):\n",
    "     #   x[:,k] = df.iloc[:,1+3*k].to_numpy()\n",
    "      #  y[:,k] = df.iloc[:,2+3*k].to_numpy()\n",
    "        \n",
    "    z = df_tmp.to_numpy()\n",
    "    z = z.reshape(-1,birds_num,2)\n",
    "    #x_0 = df['x0'].to_numpy().tolist()\n",
    "    #y_0 = df['y0'].to_numpy().tolist()\n",
    "    \n",
    "    #x_1 = df['x1'].to_numpy().tolist()\n",
    "    #y_1 = df['y1'].to_numpy().tolist()\n",
    "    scat = ax.scatter(z[0,:,0],z[0,:,1],\n",
    "                      color=['red', *['blue' for i in range(birds_num-1)]])\n",
    "    scat.set_animated(True)\n",
    "    scat.set_antialiased(True)\n",
    "    # First set up the figure, the axis, and the plot element we want to animate\n",
    "\n",
    "    def init():\n",
    "        scat.set_offsets(z[0,:])\n",
    "        \n",
    "        return scat\n",
    "        #for i in range(birds_num):\n",
    "            #line[i].set_data([], [])\n",
    "\n",
    "            #return [line[i] for i in range(birds_num)],\n",
    "\n",
    "    # animation function. This is called sequentially\n",
    "    def animate(i):\n",
    "        '''\n",
    "        x0.append((x_0[i]))\n",
    "        y0.append((y_0[i]))\n",
    "        x1.append((x_1[i]))\n",
    "        y1.append((y_1[i]))\n",
    "        line.set_data(x0, y0)\n",
    "        line2.set_data(x1,y1)\n",
    "        return (line, line2, )\n",
    "        '''\n",
    "        #print(z[i,:].reshape(-1,2))\n",
    "        #print(z[i,:][0])\n",
    "        scat.set_offsets(z[i,:])\n",
    "        #scat.set_data(x_a[b],y_a[b])\n",
    "        return scat,\n",
    "        \n",
    "    #anim = animation.FuncAnimation(fig, animate, init_func=init,frames=len(df), interval=50, blit=True)\n",
    "    anim = animation.FuncAnimation(fig, animate, frames=len(df), interval=30, blit=True)\n",
    "    return anim"
   ]
  },
  {
   "cell_type": "code",
   "execution_count": 10,
   "id": "f74d0ec0-e39a-4c7f-9cb8-915f23908268",
   "metadata": {},
   "outputs": [
    {
     "data": {
      "image/png": "[encoded data removed]",
      "text/plain": [
       "<Figure size 576x360 with 1 Axes>"
      ]
     },
     "metadata": {
      "needs_background": "light"
     },
     "output_type": "display_data"
    }
   ],
   "source": [
    "anim = animate_trajectory(0)\n",
    "anim.save('example.gif',fps=30)"
   ]
  }
 ],
 "metadata": {
  "kernelspec": {
   "display_name": "Python 3 (ipykernel)",
   "language": "python",
   "name": "python3"
  },
  "language_info": {
   "codemirror_mode": {
    "name": "ipython",
    "version": 3
   },
   "file_extension": ".py",
   "mimetype": "text/x-python",
   "name": "python",
   "nbconvert_exporter": "python",
   "pygments_lexer": "ipython3",
   "version": "3.8.10"
  }
 },
 "nbformat": 4,
 "nbformat_minor": 5
}
