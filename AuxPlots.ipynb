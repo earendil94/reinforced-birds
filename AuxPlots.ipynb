{
 "cells": [
  {
   "cell_type": "code",
   "execution_count": 1,
   "id": "44ea9e1d-11b1-4375-ac7c-a5db23e2a66e",
   "metadata": {},
   "outputs": [],
   "source": [
    "import matplotlib.pyplot as plt\n",
    "import matplotlib.patches as mpatches\n",
    "import pandas as pd\n",
    "import numpy as np\n",
    "import math\n",
    "from matplotlib.collections import PatchCollection"
   ]
  },
  {
   "cell_type": "markdown",
   "id": "5be3363b-3707-4392-9ca9-5c7682a0da19",
   "metadata": {},
   "source": [
    "## Episodes learning"
   ]
  },
  {
   "cell_type": "code",
   "execution_count": 2,
   "id": "d1c4de03-9af7-47fe-b9f3-9692f76f9a4e",
   "metadata": {},
   "outputs": [
    {
     "data": {
      "image/png": "[encoded data removed]",
      "text/plain": [
       "<Figure size 432x288 with 1 Axes>"
      ]
     },
     "metadata": {},
     "output_type": "display_data"
    }
   ],
   "source": [
    "#plt.style.available\n",
    "plt.style.use('ggplot')\n",
    "\n",
    "df = pd.read_csv(\"episode.csv\")\n",
    "df[\"NormEndTime\"] = df[\"EndTime\"] / 500\n",
    "df[\"mean_norm_end\"] = df[\"NormEndTime\"] .rolling(100, min_periods=5).mean()\n",
    "#print(df)\n",
    "pred_train = df[\"PredatorTraining\"]\n",
    "learner_change = np.where(np.roll(pred_train, -1) != pred_train)[0]\n",
    "ax = df.plot(x=\"Episode\", y=\"mean_norm_end\", kind=\"line\", lw=0.5, legend=False)\n",
    "ax.set_ylabel(\"EndTime\")\n",
    "for i, x_l in enumerate(learner_change):\n",
    "    if i%2 == 0:\n",
    "        ax.axvline(x=x_l, color=\"red\", linestyle='--', lw=1)\n",
    "    else:\n",
    "        ax.axvline(x=x_l, color=\"blue\", linestyle='--', lw=1)"
   ]
  },
  {
   "cell_type": "markdown",
   "id": "9784b763-3202-44c1-b9c8-68368288d490",
   "metadata": {},
   "source": [
    "## New processing"
   ]
  },
  {
   "cell_type": "code",
   "execution_count": 47,
   "id": "730a27a0-2f4a-43b5-ae18-fd954808ab5f",
   "metadata": {},
   "outputs": [],
   "source": [
    "def preprocessing(csv_file):\n",
    "    df = pd.read_csv(csv_file)\n",
    "    index = ['Episode', 'State']\n",
    "    df.set_index(index, inplace=True)\n",
    "    df = df.loc[(slice(None),[0,1,2,4,8,16]),:]\n",
    "    return df\n",
    "\n",
    "def plot_policy(csv_file, episode):\n",
    "    \n",
    "    fig, ax = plt.subplots()\n",
    "    sec_num = 6\n",
    "    patches = []\n",
    "    \n",
    "    points = [plt.scatter([], [], color=\"darkblue\", s=5) for i in range(6)]\n",
    "    # add the vision cone\n",
    "    wedge = mpatches.Wedge((1, 1), 2, 0, 180, alpha=0.2, lw=1.5)\n",
    "    patches.append(wedge)\n",
    "\n",
    "    x = [2*math.cos(-math.pi/(sec_num-1)*i)+1 for i in range(1,sec_num-1)]\n",
    "    y = [2*math.sin(math.pi/(sec_num-1)*i)+1 for i in range(1,sec_num-1)]\n",
    "\n",
    "    for i in range(sec_num-2):\n",
    "        ax.plot([1,x[i]],[1,y[i]], color=\"cornflowerblue\", lw=0.3)\n",
    "    \n",
    "    t_p = np.array([[0,0], [1/2,math.sqrt(3)/2], [1,0]])*1/2  + np.array([3/4,1/2])\n",
    "    \n",
    "    # Simplex outside sectors\n",
    "    t = mpatches.Polygon(t_p, alpha=0.2, lw=2)\n",
    "    patches.append(t)\n",
    "    \n",
    "    t_coord = []\n",
    "    \n",
    "    for i in range(1,6):\n",
    "        n_shift = 1.5*np.array([-math.cos(-i*math.pi/sec_num), math.sin(i*math.pi/sec_num)])\n",
    "        t_coord.append(t_p + n_shift)\n",
    "        t = mpatches.Polygon(t_coord[i-1], alpha=0.2, lw=2)\n",
    "        patches.append(t)\n",
    "\n",
    "    #print(t_coord)\n",
    "    \n",
    "    #Data preparation\n",
    "    df = preprocessing(csv_file)\n",
    "    \n",
    "    def animate(i):\n",
    "        df_actual = df.loc[(i,slice(None)),:]\n",
    "        df_actual.reset_index(drop=True, inplace=True)\n",
    "        m = df_actual.mean(axis=1)\n",
    "        df_actual = df_actual.subtract(m,axis=0)\n",
    "        for k in df_actual:\n",
    "            df_actual[k] = np.exp(df_actual[k])\n",
    "\n",
    "        s = df_actual.sum(axis=1)\n",
    "        df_actual = df_actual.divide(s, axis=0)\n",
    "        df_actual[\"y\"] = df_actual[\"Straight\"]\n",
    "        df_actual[\"x\"] = (df_actual[\"Right\"] - df_actual[\"Left\"])/2 + 0.5\n",
    "    \n",
    "        sec_num = len(df_actual)\n",
    "        s_point = t_p[0] + np.array([df_actual[\"x\"][0]/2, df_actual[\"y\"][0]/2])\n",
    "        points[0].set_sizes([s_point[0], s_point[1]])\n",
    "        \n",
    "        for k in range(1,6):\n",
    "            s_point = t_coord[k-1] + np.array([df_actual[\"x\"][6-k]/2, df_actual[\"y\"][6-k]/2])\n",
    "            points[k].set_sizes([s_point[0][0], s_point[0][1]])\n",
    "\n",
    "            \n",
    "    animate(episode)\n",
    "    collection = PatchCollection(patches, match_original=True)\n",
    "    ax.add_collection(collection)\n",
    "    for p in points:\n",
    "        ax.add_collection(p)\n",
    "    plt.axis('equal')\n",
    "    plt.axis('off')\n",
    "    plt.tight_layout()\n",
    "\n",
    "    plt.show()"
   ]
  },
  {
   "cell_type": "code",
   "execution_count": 76,
   "id": "54bf0728-efd9-47df-aba3-f95cd2dd232f",
   "metadata": {},
   "outputs": [
    {
     "data": {
      "text/plain": [
       "[array([[0.33359878, 0.33359868, 0.33280253],\n",
       "        [0.33287316, 0.33396478, 0.33316206],\n",
       "        [0.33265642, 0.3351003 , 0.33224328],\n",
       "        ...,\n",
       "        [0.48623083, 0.06000233, 0.45376683],\n",
       "        [0.48604054, 0.05987099, 0.45408847],\n",
       "        [0.48594706, 0.0597339 , 0.45431904]]),\n",
       " array([[0.33359878, 0.33359868, 0.33280253],\n",
       "        [0.33287316, 0.33396478, 0.33316206],\n",
       "        [0.33265642, 0.3351003 , 0.33224328],\n",
       "        ...,\n",
       "        [0.48623083, 0.06000233, 0.45376683],\n",
       "        [0.48604054, 0.05987099, 0.45408847],\n",
       "        [0.48594706, 0.0597339 , 0.45431904]]),\n",
       " array([[0.33359878, 0.33359868, 0.33280253],\n",
       "        [0.33287316, 0.33396478, 0.33316206],\n",
       "        [0.33265642, 0.3351003 , 0.33224328],\n",
       "        ...,\n",
       "        [0.48623083, 0.06000233, 0.45376683],\n",
       "        [0.48604054, 0.05987099, 0.45408847],\n",
       "        [0.48594706, 0.0597339 , 0.45431904]]),\n",
       " array([[0.33359878, 0.33359868, 0.33280253],\n",
       "        [0.33287316, 0.33396478, 0.33316206],\n",
       "        [0.33265642, 0.3351003 , 0.33224328],\n",
       "        ...,\n",
       "        [0.48623083, 0.06000233, 0.45376683],\n",
       "        [0.48604054, 0.05987099, 0.45408847],\n",
       "        [0.48594706, 0.0597339 , 0.45431904]]),\n",
       " array([[0.33359878, 0.33359868, 0.33280253],\n",
       "        [0.33287316, 0.33396478, 0.33316206],\n",
       "        [0.33265642, 0.3351003 , 0.33224328],\n",
       "        ...,\n",
       "        [0.48623083, 0.06000233, 0.45376683],\n",
       "        [0.48604054, 0.05987099, 0.45408847],\n",
       "        [0.48594706, 0.0597339 , 0.45431904]]),\n",
       " array([[0.33359878, 0.33359868, 0.33280253],\n",
       "        [0.33287316, 0.33396478, 0.33316206],\n",
       "        [0.33265642, 0.3351003 , 0.33224328],\n",
       "        ...,\n",
       "        [0.48623083, 0.06000233, 0.45376683],\n",
       "        [0.48604054, 0.05987099, 0.45408847],\n",
       "        [0.48594706, 0.0597339 , 0.45431904]])]"
      ]
     },
     "execution_count": 76,
     "metadata": {},
     "output_type": "execute_result"
    }
   ],
   "source": [
    "def softmax(a):\n",
    "    a = a - np.mean(a, axis=1, keepdims=True)\n",
    "    a = np.exp(a)\n",
    "    return a / np.sum(a, axis=1, keepdims=True)\n",
    "\n",
    "df = preprocessing(\"policy_pursuer.csv\")\n",
    "dfs = []\n",
    "#df_0 = df.loc[(slice(None),0),]\n",
    "for i in [0,1,2,4,8,16]:\n",
    "    d = df.loc[(slice(None),0),]\n",
    "    d.reset_index(drop=True, inplace=True)\n",
    "    d = d.to_numpy()\n",
    "    #print(d)\n",
    "    d = softmax(d)\n",
    "    \n",
    "    dfs.append(d)\n",
    "    \n",
    "dfs"
   ]
  },
  {
   "cell_type": "code",
   "execution_count": 97,
   "id": "320de68f-2bb7-4173-bf56-5f3a96ed80b4",
   "metadata": {},
   "outputs": [
    {
     "data": {
      "text/plain": [
       "array([[-22.375,  -6.   ],\n",
       "       [  0.   ,   4.   ]])"
      ]
     },
     "execution_count": 97,
     "metadata": {},
     "output_type": "execute_result"
    }
   ],
   "source": [
    "a = np.array([[1,2,3], [4,5,6]])\n",
    "b = np.empty([a.shape[0],2])\n",
    "b"
   ]
  },
  {
   "cell_type": "code",
   "execution_count": 71,
   "id": "33112360-bac4-415d-9030-608257a8b895",
   "metadata": {},
   "outputs": [
    {
     "data": {
      "text/plain": [
       "array([[0.09003057, 0.24472847, 0.66524096],\n",
       "       [0.09003057, 0.24472847, 0.66524096]])"
      ]
     },
     "execution_count": 71,
     "metadata": {},
     "output_type": "execute_result"
    }
   ],
   "source": []
  },
  {
   "cell_type": "code",
   "execution_count": 49,
   "id": "e411a438-f57f-46cd-be3a-31313ea4675c",
   "metadata": {},
   "outputs": [
    {
     "data": {
      "image/png": "[encoded data removed]",
      "text/plain": [
       "<Figure size 432x288 with 1 Axes>"
      ]
     },
     "metadata": {},
     "output_type": "display_data"
    }
   ],
   "source": [
    "plot_policy(\"policy_pursuer.csv\",2000)\n",
    "#df = pd.read_csv(\"policy_pursuer.csv\")\n",
    "#df"
   ]
  },
  {
   "cell_type": "code",
   "execution_count": 106,
   "id": "b38e4b06-5fb7-4e58-9972-cc1faec68adb",
   "metadata": {},
   "outputs": [
    {
     "data": {
      "image/png": "[encoded data removed]",
      "text/plain": [
       "<Figure size 432x288 with 1 Axes>"
      ]
     },
     "metadata": {},
     "output_type": "display_data"
    }
   ],
   "source": [
    "plot_policy(\"policy_evader.csv\")"
   ]
  },
  {
   "cell_type": "code",
   "execution_count": 15,
   "id": "b6805c44-cf61-4a69-a1a7-b6bd609229f1",
   "metadata": {},
   "outputs": [],
   "source": [
    "episodes_num = 5000\n",
    "states_num = 2**5-1\n",
    "index = ['Episode', 'State']\n",
    "df = pd.read_csv(\"policy_pursuer.csv\")\n",
    "#Keep 0, 1, 4, 8, 16\n",
    "df.set_index(index, inplace=True)\n",
    "df = df.loc[(slice(None),[0,1,2,4,8,16]),:]"
   ]
  },
  {
   "cell_type": "code",
   "execution_count": 16,
   "id": "a20c8f32-d267-4fb3-93b6-a21b34f1ef96",
   "metadata": {},
   "outputs": [
    {
     "data": {
      "text/html": [
       "<div>\n",
       "<style scoped>\n",
       "    .dataframe tbody tr th:only-of-type {\n",
       "        vertical-align: middle;\n",
       "    }\n",
       "\n",
       "    .dataframe tbody tr th {\n",
       "        vertical-align: top;\n",
       "    }\n",
       "\n",
       "    .dataframe thead th {\n",
       "        text-align: right;\n",
       "    }\n",
       "</style>\n",
       "<table border=\"1\" class=\"dataframe\">\n",
       "  <thead>\n",
       "    <tr style=\"text-align: right;\">\n",
       "      <th></th>\n",
       "      <th></th>\n",
       "      <th>Left</th>\n",
       "      <th>Straight</th>\n",
       "      <th>Right</th>\n",
       "    </tr>\n",
       "    <tr>\n",
       "      <th>Episode</th>\n",
       "      <th>State</th>\n",
       "      <th></th>\n",
       "      <th></th>\n",
       "      <th></th>\n",
       "    </tr>\n",
       "  </thead>\n",
       "  <tbody>\n",
       "    <tr>\n",
       "      <th rowspan=\"6\" valign=\"top\">10</th>\n",
       "      <th>0</th>\n",
       "      <td>-0.212696</td>\n",
       "      <td>-0.236084</td>\n",
       "      <td>-0.209639</td>\n",
       "    </tr>\n",
       "    <tr>\n",
       "      <th>1</th>\n",
       "      <td>0.049977</td>\n",
       "      <td>0.071204</td>\n",
       "      <td>0.081663</td>\n",
       "    </tr>\n",
       "    <tr>\n",
       "      <th>2</th>\n",
       "      <td>0.081510</td>\n",
       "      <td>0.081365</td>\n",
       "      <td>0.076343</td>\n",
       "    </tr>\n",
       "    <tr>\n",
       "      <th>4</th>\n",
       "      <td>0.074778</td>\n",
       "      <td>0.075746</td>\n",
       "      <td>0.075361</td>\n",
       "    </tr>\n",
       "    <tr>\n",
       "      <th>8</th>\n",
       "      <td>0.071842</td>\n",
       "      <td>0.072421</td>\n",
       "      <td>0.073751</td>\n",
       "    </tr>\n",
       "    <tr>\n",
       "      <th>16</th>\n",
       "      <td>0.070051</td>\n",
       "      <td>0.072689</td>\n",
       "      <td>0.047011</td>\n",
       "    </tr>\n",
       "  </tbody>\n",
       "</table>\n",
       "</div>"
      ],
      "text/plain": [
       "                   Left  Straight     Right\n",
       "Episode State                              \n",
       "10      0     -0.212696 -0.236084 -0.209639\n",
       "        1      0.049977  0.071204  0.081663\n",
       "        2      0.081510  0.081365  0.076343\n",
       "        4      0.074778  0.075746  0.075361\n",
       "        8      0.071842  0.072421  0.073751\n",
       "        16     0.070051  0.072689  0.047011"
      ]
     },
     "execution_count": 16,
     "metadata": {},
     "output_type": "execute_result"
    }
   ],
   "source": [
    "df.loc[(10,slice(None)),]"
   ]
  },
  {
   "cell_type": "code",
   "execution_count": 89,
   "id": "8f36c0b8-3c70-44aa-bf15-09fa179ee501",
   "metadata": {},
   "outputs": [
    {
     "data": {
      "text/plain": [
       "<AxesSubplot:>"
      ]
     },
     "execution_count": 89,
     "metadata": {},
     "output_type": "execute_result"
    },
    {
     "data": {
      "image/png": "[encoded data removed]",
      "text/plain": [
       "<Figure size 432x288 with 1 Axes>"
      ]
     },
     "metadata": {},
     "output_type": "display_data"
    }
   ],
   "source": [
    "df.loc[(slice(None),0),\"Left\"].plot(use_index=False)\n",
    "df.loc[(slice(None),1),\"Left\"].plot(use_index=False)\n",
    "df.loc[(slice(None),2),\"Left\"].plot(use_index=False)\n",
    "df.loc[(slice(None),4),\"Left\"].plot(use_index=False)"
   ]
  },
  {
   "cell_type": "code",
   "execution_count": 86,
   "id": "196aea73-201b-45e5-947f-0e8c890473bc",
   "metadata": {},
   "outputs": [],
   "source": [
    "episodes_num = 5000\n",
    "states_num = 2**5-1\n",
    "index = ['Episode', 'State']\n",
    "df = pd.read_csv(\"value_pursuer.csv\")\n",
    "#Keep 0, 1, 4, 8, 16\n",
    "df.set_index(index, inplace=True)\n",
    "df = df.loc[(slice(None),[0,1,2,4,8,16]),:]"
   ]
  },
  {
   "cell_type": "code",
   "execution_count": 87,
   "id": "c216c4b9-3239-469c-b90b-6781b3a0df53",
   "metadata": {},
   "outputs": [
    {
     "data": {
      "text/plain": [
       "<matplotlib.legend.Legend at 0x7fb36b151400>"
      ]
     },
     "execution_count": 87,
     "metadata": {},
     "output_type": "execute_result"
    },
    {
     "data": {
      "image/png": "[encoded data removed]",
      "text/plain": [
       "<Figure size 432x288 with 1 Axes>"
      ]
     },
     "metadata": {},
     "output_type": "display_data"
    },
    {
     "data": {
      "image/png": "[encoded data removed]",
      "text/plain": [
       "<Figure size 432x288 with 1 Axes>"
      ]
     },
     "metadata": {},
     "output_type": "display_data"
    }
   ],
   "source": [
    "fig, ax = plt.subplots()\n",
    "ax = df.loc[(slice(None),0),].plot(use_index=False)\n",
    "df.loc[(slice(None),1),].plot(use_index=False, ax=ax)\n",
    "df.loc[(slice(None),2),].plot(use_index=False, ax=ax)\n",
    "df.loc[(slice(None),4),].plot(use_index=False, ax=ax)\n",
    "df.loc[(slice(None),8),].plot(use_index=False, ax=ax)\n",
    "df.loc[(slice(None),16),].plot(use_index=False, ax=ax)\n",
    "ax.legend([0,1,2,4,8,16])"
   ]
  },
  {
   "cell_type": "code",
   "execution_count": 13,
   "id": "f904613a-1bc0-45ce-a130-f147f3059bd2",
   "metadata": {},
   "outputs": [
    {
     "data": {
      "text/plain": [
       "['Solarize_Light2',\n",
       " '_classic_test_patch',\n",
       " 'bmh',\n",
       " 'classic',\n",
       " 'dark_background',\n",
       " 'fast',\n",
       " 'fivethirtyeight',\n",
       " 'ggplot',\n",
       " 'grayscale',\n",
       " 'seaborn',\n",
       " 'seaborn-bright',\n",
       " 'seaborn-colorblind',\n",
       " 'seaborn-dark',\n",
       " 'seaborn-dark-palette',\n",
       " 'seaborn-darkgrid',\n",
       " 'seaborn-deep',\n",
       " 'seaborn-muted',\n",
       " 'seaborn-notebook',\n",
       " 'seaborn-paper',\n",
       " 'seaborn-pastel',\n",
       " 'seaborn-poster',\n",
       " 'seaborn-talk',\n",
       " 'seaborn-ticks',\n",
       " 'seaborn-white',\n",
       " 'seaborn-whitegrid',\n",
       " 'tableau-colorblind10']"
      ]
     },
     "execution_count": 13,
     "metadata": {},
     "output_type": "execute_result"
    }
   ],
   "source": [
    "plt.style.available"
   ]
  },
  {
   "cell_type": "code",
   "execution_count": 39,
   "id": "fd7542e8-c7d2-4303-8a69-28c93b646364",
   "metadata": {},
   "outputs": [],
   "source": [
    "## Old processing"
   ]
  },
  {
   "cell_type": "code",
   "execution_count": null,
   "id": "e26e6f36-c832-4a07-8c97-366ca6d35907",
   "metadata": {},
   "outputs": [],
   "source": [
    "plt.style.use('fivethirtyeight')\n",
    "df = pd.read_csv(\"policy.csv\")\n",
    "df_actual = df[df[\"Straight\"]!=0.1]\n",
    "s = df_actual.sum(axis=1)\n",
    "df_actual = df_actual.divide(s, axis=\"index\")\n",
    "#df_actual\n",
    "\n",
    "#Isometric projection\n",
    "df_actual[\"Left\"] = df_actual[\"Left\"]*math.sqrt(3)/2\n",
    "df_actual[\"Right\"] = df_actual[\"Right\"]*math.sqrt(3)/2\n",
    "#m = df_actual.min(axis=1)\n",
    "#df_actual = df_actual.subtract(m, axis=\"index\")\n",
    "df_actual[\"dx\"] = df_actual[\"Right\"] - df_actual[\"Left\"]\n",
    "df_actual[\"dy\"] = df_actual[\"Straight\"]\n",
    "df = df_actual\n",
    "df.reset_index(drop=True, inplace=True)\n",
    "df"
   ]
  },
  {
   "cell_type": "code",
   "execution_count": null,
   "id": "2edee68b-aab1-4a69-8ff2-26eb5c5a9253",
   "metadata": {},
   "outputs": [],
   "source": [
    "fig, ax = plt.subplots()\n",
    "patches = []\n",
    "\n",
    "# add a wedge\n",
    "wedge = mpatches.Wedge((1, 1), 2, 0, 180, color=\"white\", ec=\"black\")\n",
    "patches.append(wedge)\n",
    "\n",
    "x = [2*math.cos(-math.pi/5*i)+1 for i in range(1,5)]\n",
    "y = [2*math.sin(math.pi/5*i)+1 for i in range(1,5)]\n",
    "\n",
    "for i in range(4):\n",
    "    ax.plot([1,x[i]],[1,y[i]], color=\"black\")\n",
    "\n",
    "# add an arrow\n",
    "arrow = mpatches.Arrow(1, 0, df[\"dx\"][0], df[\"dy\"][0], width=0.05, color=\"black\")\n",
    "patches.append(arrow)\n",
    "    \n",
    "for i in range(1,len(df_actual)):\n",
    "    arrow = mpatches.Arrow((i-1)*0.5, 1.3 + 0.5*math.sin(math.pi/4*(i-1)), \n",
    "                           df[\"dx\"][6-i], df[\"dy\"][6-i], width=0.05, color=\"black\")\n",
    "    patches.append(arrow)\n",
    "\n",
    "collection = PatchCollection(patches, match_original=True)\n",
    "ax.add_collection(collection)\n",
    "plt.axis('equal')\n",
    "plt.axis('off')\n",
    "#ax.plot([] , 'bo')\n",
    "plt.tight_layout()\n",
    "\n",
    "plt.show()"
   ]
  }
 ],
 "metadata": {
  "interpreter": {
   "hash": "ec2cc1bc04e6ce0c68a0eb39aa9f5a493f9c33dfd3c294d3dd563af31dbdb7a4"
  },
  "kernelspec": {
   "display_name": "Python 3 (ipykernel)",
   "language": "python",
   "name": "python3"
  },
  "language_info": {
   "codemirror_mode": {
    "name": "ipython",
    "version": 3
   },
   "file_extension": ".py",
   "mimetype": "text/x-python",
   "name": "python",
   "nbconvert_exporter": "python",
   "pygments_lexer": "ipython3",
   "version": "3.8.10"
  }
 },
 "nbformat": 4,
 "nbformat_minor": 5
}
