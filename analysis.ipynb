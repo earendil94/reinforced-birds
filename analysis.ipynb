{
 "cells": [
  {
   "cell_type": "code",
   "execution_count": 1,
   "id": "2dbb8f0b-d5b3-439f-b5ac-a9516f24937f",
   "metadata": {},
   "outputs": [],
   "source": [
    "%matplotlib inline"
   ]
  },
  {
   "cell_type": "code",
   "execution_count": 2,
   "id": "399a2a30-61b2-4697-bc0f-758114867cfe",
   "metadata": {},
   "outputs": [],
   "source": [
    "import numpy as np\n",
    "import matplotlib.pyplot as plt\n",
    "import pandas as pd\n",
    "from matplotlib import animation, rc\n",
    "from IPython.display import HTML"
   ]
  },
  {
   "cell_type": "code",
   "execution_count": 3,
   "id": "f2b69ca3-3149-463e-9e51-e5c8e1dcd7e8",
   "metadata": {},
   "outputs": [],
   "source": [
    "# initialization function: plot the background of each frame\n",
    "def animate_trajectory(filename):\n",
    "    fig, ax = plt.subplots()\n",
    "\n",
    "\n",
    "    line, = ax.plot([], [],  lw=2, color='red')\n",
    "    line2, = ax.plot([], [], lw=2, color='blue')\n",
    "    x0, y0, x1, y1 = [], [], [], []\n",
    "\n",
    "    df = pd.read_csv(filename)\n",
    "    x_0 = df['x0'].to_numpy().tolist()\n",
    "    y_0 = df['y0'].to_numpy().tolist()\n",
    "    x_1 = df['x1'].to_numpy().tolist()\n",
    "    y_1 = df['y1'].to_numpy().tolist()\n",
    "    x0, y0, x1, y1 = [], [], [], []\n",
    "    \n",
    "    #ax.set_xlim((min(min(x_0), min(x_1)), max(max(x_0),max(x_1))))\n",
    "    #ax.set_ylim((min(min(y_0), min(y_1)), max(max(y_0),max(y_1))))\n",
    "    ax.set_xlim(-2.5,15)\n",
    "    ax.set_ylim(-2.5,15)\n",
    "    # First set up the figure, the axis, and the plot element we want to animate\n",
    "\n",
    "    def init():\n",
    "        line.set_data([], [])\n",
    "        return (line,)\n",
    "\n",
    "    # animation function. This is called sequentially\n",
    "    def animate(i):\n",
    "        x0.append((x_0[i]))\n",
    "        y0.append((y_0[i]))\n",
    "        x1.append((x_1[i]))\n",
    "        y1.append((y_1[i]))\n",
    "        line.set_data(x0, y0)\n",
    "        line2.set_data(x1,y1)\n",
    "        return (line, line2, )\n",
    "\n",
    "    anim = animation.FuncAnimation(fig, animate, init_func=init,\n",
    "                                    frames=len(df), interval=40, blit=True)\n",
    "\n",
    "    return anim"
   ]
  },
  {
   "cell_type": "code",
   "execution_count": null,
   "id": "84d83e90-2196-425f-90b7-9237ba6f798d",
   "metadata": {},
   "outputs": [],
   "source": [
    "anim_p = animate_trajectory(\"trajectories/pursuer_trajectory1.csv\")\n",
    "HTML(anim_p.to_html5_video())"
   ]
  },
  {
   "cell_type": "code",
   "execution_count": null,
   "id": "dc5fc5eb-01d9-48c2-b559-7772e82b5403",
   "metadata": {},
   "outputs": [],
   "source": [
    "anim_p = animate_trajectory(\"trajectories/pursuer_trajectory101.csv\")\n",
    "HTML(anim_p.to_html5_video())"
   ]
  },
  {
   "cell_type": "code",
   "execution_count": null,
   "id": "8997105d-4592-44fa-8857-f629c9a82348",
   "metadata": {},
   "outputs": [],
   "source": [
    "anim_p = animate_trajectory(\"trajectories/pursuer_trajectory300.csv\")\n",
    "HTML(anim_p.to_html5_video())"
   ]
  },
  {
   "cell_type": "code",
   "execution_count": null,
   "id": "1e6f79dd-12c7-4ddd-a5b7-1e9f6f83baeb",
   "metadata": {},
   "outputs": [],
   "source": [
    "anim_p = animate_trajectory(\"trajectories/pursuer_trajectory1000.csv\")\n",
    "HTML(anim_p.to_html5_video())"
   ]
  }
 ],
 "metadata": {
  "kernelspec": {
   "display_name": "Python 3 (ipykernel)",
   "language": "python",
   "name": "python3"
  },
  "language_info": {
   "codemirror_mode": {
    "name": "ipython",
    "version": 3
   },
   "file_extension": ".py",
   "mimetype": "text/x-python",
   "name": "python",
   "nbconvert_exporter": "python",
   "pygments_lexer": "ipython3",
   "version": "3.8.10"
  }
 },
 "nbformat": 4,
 "nbformat_minor": 5
}
